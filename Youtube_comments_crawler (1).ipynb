{
  "nbformat": 4,
  "nbformat_minor": 0,
  "metadata": {
    "colab": {
      "name": "Youtube comments crawler.ipynb",
      "provenance": [],
      "collapsed_sections": []
    },
    "kernelspec": {
      "name": "python3",
      "display_name": "Python 3"
    },
    "language_info": {
      "name": "python"
    }
  },
  "cells": [
    {
      "cell_type": "code",
      "metadata": {
        "colab": {
          "base_uri": "https://localhost:8080/"
        },
        "id": "L17KWKCixZDE",
        "outputId": "a411cdc4-d336-4b4a-cbfc-77e3caf40aeb"
      },
      "source": [
        "from google.colab import drive\n",
        "drive.mount('/content/drive')\n"
      ],
      "execution_count": 4,
      "outputs": [
        {
          "output_type": "stream",
          "text": [
            "Drive already mounted at /content/drive; to attempt to forcibly remount, call drive.mount(\"/content/drive\", force_remount=True).\n"
          ],
          "name": "stdout"
        }
      ]
    },
    {
      "cell_type": "code",
      "metadata": {
        "id": "6e5CR9U-xbeg"
      },
      "source": [
        "import os\n",
        "os.chdir('/content/drive/MyDrive/Colab Notebooks')"
      ],
      "execution_count": 5,
      "outputs": []
    },
    {
      "cell_type": "code",
      "metadata": {
        "colab": {
          "base_uri": "https://localhost:8080/"
        },
        "id": "oePT1EhXxbq9",
        "outputId": "c1ca98cc-8113-4f50-8cbf-2c85d386cb9b"
      },
      "source": [
        "!pip install google-api-python-client\n",
        "!pip install google-auth google-auth-oauthlib google-auth-httplib2\n",
        "!pip install demoji\n",
        "!pip install pandas\n",
        "!pip install langdetect\n"
      ],
      "execution_count": 6,
      "outputs": [
        {
          "output_type": "stream",
          "text": [
            "Requirement already satisfied: google-api-python-client in /usr/local/lib/python3.7/dist-packages (1.12.8)\n",
            "Requirement already satisfied: google-auth-httplib2>=0.0.3 in /usr/local/lib/python3.7/dist-packages (from google-api-python-client) (0.0.4)\n",
            "Requirement already satisfied: uritemplate<4dev,>=3.0.0 in /usr/local/lib/python3.7/dist-packages (from google-api-python-client) (3.0.1)\n",
            "Requirement already satisfied: google-api-core<2dev,>=1.21.0 in /usr/local/lib/python3.7/dist-packages (from google-api-python-client) (1.26.3)\n",
            "Requirement already satisfied: google-auth>=1.16.0 in /usr/local/lib/python3.7/dist-packages (from google-api-python-client) (1.30.0)\n",
            "Requirement already satisfied: six<2dev,>=1.13.0 in /usr/local/lib/python3.7/dist-packages (from google-api-python-client) (1.15.0)\n",
            "Requirement already satisfied: httplib2<1dev,>=0.15.0 in /usr/local/lib/python3.7/dist-packages (from google-api-python-client) (0.17.4)\n",
            "Requirement already satisfied: protobuf>=3.12.0 in /usr/local/lib/python3.7/dist-packages (from google-api-core<2dev,>=1.21.0->google-api-python-client) (3.12.4)\n",
            "Requirement already satisfied: setuptools>=40.3.0 in /usr/local/lib/python3.7/dist-packages (from google-api-core<2dev,>=1.21.0->google-api-python-client) (56.1.0)\n",
            "Requirement already satisfied: pytz in /usr/local/lib/python3.7/dist-packages (from google-api-core<2dev,>=1.21.0->google-api-python-client) (2018.9)\n",
            "Requirement already satisfied: packaging>=14.3 in /usr/local/lib/python3.7/dist-packages (from google-api-core<2dev,>=1.21.0->google-api-python-client) (20.9)\n",
            "Requirement already satisfied: googleapis-common-protos<2.0dev,>=1.6.0 in /usr/local/lib/python3.7/dist-packages (from google-api-core<2dev,>=1.21.0->google-api-python-client) (1.53.0)\n",
            "Requirement already satisfied: requests<3.0.0dev,>=2.18.0 in /usr/local/lib/python3.7/dist-packages (from google-api-core<2dev,>=1.21.0->google-api-python-client) (2.23.0)\n",
            "Requirement already satisfied: cachetools<5.0,>=2.0.0 in /usr/local/lib/python3.7/dist-packages (from google-auth>=1.16.0->google-api-python-client) (4.2.2)\n",
            "Requirement already satisfied: rsa<5,>=3.1.4; python_version >= \"3.6\" in /usr/local/lib/python3.7/dist-packages (from google-auth>=1.16.0->google-api-python-client) (4.7.2)\n",
            "Requirement already satisfied: pyasn1-modules>=0.2.1 in /usr/local/lib/python3.7/dist-packages (from google-auth>=1.16.0->google-api-python-client) (0.2.8)\n",
            "Requirement already satisfied: pyparsing>=2.0.2 in /usr/local/lib/python3.7/dist-packages (from packaging>=14.3->google-api-core<2dev,>=1.21.0->google-api-python-client) (2.4.7)\n",
            "Requirement already satisfied: chardet<4,>=3.0.2 in /usr/local/lib/python3.7/dist-packages (from requests<3.0.0dev,>=2.18.0->google-api-core<2dev,>=1.21.0->google-api-python-client) (3.0.4)\n",
            "Requirement already satisfied: idna<3,>=2.5 in /usr/local/lib/python3.7/dist-packages (from requests<3.0.0dev,>=2.18.0->google-api-core<2dev,>=1.21.0->google-api-python-client) (2.10)\n",
            "Requirement already satisfied: urllib3!=1.25.0,!=1.25.1,<1.26,>=1.21.1 in /usr/local/lib/python3.7/dist-packages (from requests<3.0.0dev,>=2.18.0->google-api-core<2dev,>=1.21.0->google-api-python-client) (1.24.3)\n",
            "Requirement already satisfied: certifi>=2017.4.17 in /usr/local/lib/python3.7/dist-packages (from requests<3.0.0dev,>=2.18.0->google-api-core<2dev,>=1.21.0->google-api-python-client) (2020.12.5)\n",
            "Requirement already satisfied: pyasn1>=0.1.3 in /usr/local/lib/python3.7/dist-packages (from rsa<5,>=3.1.4; python_version >= \"3.6\"->google-auth>=1.16.0->google-api-python-client) (0.4.8)\n",
            "Requirement already satisfied: google-auth in /usr/local/lib/python3.7/dist-packages (1.30.0)\n",
            "Requirement already satisfied: google-auth-oauthlib in /usr/local/lib/python3.7/dist-packages (0.4.4)\n",
            "Requirement already satisfied: google-auth-httplib2 in /usr/local/lib/python3.7/dist-packages (0.0.4)\n",
            "Requirement already satisfied: setuptools>=40.3.0 in /usr/local/lib/python3.7/dist-packages (from google-auth) (56.1.0)\n",
            "Requirement already satisfied: cachetools<5.0,>=2.0.0 in /usr/local/lib/python3.7/dist-packages (from google-auth) (4.2.2)\n",
            "Requirement already satisfied: pyasn1-modules>=0.2.1 in /usr/local/lib/python3.7/dist-packages (from google-auth) (0.2.8)\n",
            "Requirement already satisfied: rsa<5,>=3.1.4; python_version >= \"3.6\" in /usr/local/lib/python3.7/dist-packages (from google-auth) (4.7.2)\n",
            "Requirement already satisfied: six>=1.9.0 in /usr/local/lib/python3.7/dist-packages (from google-auth) (1.15.0)\n",
            "Requirement already satisfied: requests-oauthlib>=0.7.0 in /usr/local/lib/python3.7/dist-packages (from google-auth-oauthlib) (1.3.0)\n",
            "Requirement already satisfied: httplib2>=0.9.1 in /usr/local/lib/python3.7/dist-packages (from google-auth-httplib2) (0.17.4)\n",
            "Requirement already satisfied: pyasn1<0.5.0,>=0.4.6 in /usr/local/lib/python3.7/dist-packages (from pyasn1-modules>=0.2.1->google-auth) (0.4.8)\n",
            "Requirement already satisfied: requests>=2.0.0 in /usr/local/lib/python3.7/dist-packages (from requests-oauthlib>=0.7.0->google-auth-oauthlib) (2.23.0)\n",
            "Requirement already satisfied: oauthlib>=3.0.0 in /usr/local/lib/python3.7/dist-packages (from requests-oauthlib>=0.7.0->google-auth-oauthlib) (3.1.0)\n",
            "Requirement already satisfied: chardet<4,>=3.0.2 in /usr/local/lib/python3.7/dist-packages (from requests>=2.0.0->requests-oauthlib>=0.7.0->google-auth-oauthlib) (3.0.4)\n",
            "Requirement already satisfied: certifi>=2017.4.17 in /usr/local/lib/python3.7/dist-packages (from requests>=2.0.0->requests-oauthlib>=0.7.0->google-auth-oauthlib) (2020.12.5)\n",
            "Requirement already satisfied: idna<3,>=2.5 in /usr/local/lib/python3.7/dist-packages (from requests>=2.0.0->requests-oauthlib>=0.7.0->google-auth-oauthlib) (2.10)\n",
            "Requirement already satisfied: urllib3!=1.25.0,!=1.25.1,<1.26,>=1.21.1 in /usr/local/lib/python3.7/dist-packages (from requests>=2.0.0->requests-oauthlib>=0.7.0->google-auth-oauthlib) (1.24.3)\n",
            "Requirement already satisfied: demoji in /usr/local/lib/python3.7/dist-packages (0.4.0)\n",
            "Requirement already satisfied: requests<3.0.0 in /usr/local/lib/python3.7/dist-packages (from demoji) (2.23.0)\n",
            "Requirement already satisfied: colorama in /usr/local/lib/python3.7/dist-packages (from demoji) (0.4.4)\n",
            "Requirement already satisfied: certifi>=2017.4.17 in /usr/local/lib/python3.7/dist-packages (from requests<3.0.0->demoji) (2020.12.5)\n",
            "Requirement already satisfied: urllib3!=1.25.0,!=1.25.1,<1.26,>=1.21.1 in /usr/local/lib/python3.7/dist-packages (from requests<3.0.0->demoji) (1.24.3)\n",
            "Requirement already satisfied: idna<3,>=2.5 in /usr/local/lib/python3.7/dist-packages (from requests<3.0.0->demoji) (2.10)\n",
            "Requirement already satisfied: chardet<4,>=3.0.2 in /usr/local/lib/python3.7/dist-packages (from requests<3.0.0->demoji) (3.0.4)\n",
            "Requirement already satisfied: pandas in /usr/local/lib/python3.7/dist-packages (1.1.5)\n",
            "Requirement already satisfied: python-dateutil>=2.7.3 in /usr/local/lib/python3.7/dist-packages (from pandas) (2.8.1)\n",
            "Requirement already satisfied: pytz>=2017.2 in /usr/local/lib/python3.7/dist-packages (from pandas) (2018.9)\n",
            "Requirement already satisfied: numpy>=1.15.4 in /usr/local/lib/python3.7/dist-packages (from pandas) (1.19.5)\n",
            "Requirement already satisfied: six>=1.5 in /usr/local/lib/python3.7/dist-packages (from python-dateutil>=2.7.3->pandas) (1.15.0)\n",
            "Requirement already satisfied: langdetect in /usr/local/lib/python3.7/dist-packages (1.0.9)\n",
            "Requirement already satisfied: six in /usr/local/lib/python3.7/dist-packages (from langdetect) (1.15.0)\n"
          ],
          "name": "stdout"
        }
      ]
    },
    {
      "cell_type": "code",
      "metadata": {
        "colab": {
          "base_uri": "https://localhost:8080/"
        },
        "id": "p_C3r6Haxbs5",
        "outputId": "221a4ce4-6b15-4f4d-c3f0-785d767630e8"
      },
      "source": [
        "pip install google-auth google-auth-oauthlib google-auth-httplib2\n"
      ],
      "execution_count": null,
      "outputs": [
        {
          "output_type": "stream",
          "text": [
            "Requirement already satisfied: google-auth in /usr/local/lib/python3.7/dist-packages (1.30.0)\n",
            "Requirement already satisfied: google-auth-oauthlib in /usr/local/lib/python3.7/dist-packages (0.4.4)\n",
            "Requirement already satisfied: google-auth-httplib2 in /usr/local/lib/python3.7/dist-packages (0.0.4)\n",
            "Requirement already satisfied: setuptools>=40.3.0 in /usr/local/lib/python3.7/dist-packages (from google-auth) (56.1.0)\n",
            "Requirement already satisfied: cachetools<5.0,>=2.0.0 in /usr/local/lib/python3.7/dist-packages (from google-auth) (4.2.2)\n",
            "Requirement already satisfied: six>=1.9.0 in /usr/local/lib/python3.7/dist-packages (from google-auth) (1.15.0)\n",
            "Requirement already satisfied: pyasn1-modules>=0.2.1 in /usr/local/lib/python3.7/dist-packages (from google-auth) (0.2.8)\n",
            "Requirement already satisfied: rsa<5,>=3.1.4; python_version >= \"3.6\" in /usr/local/lib/python3.7/dist-packages (from google-auth) (4.7.2)\n",
            "Requirement already satisfied: requests-oauthlib>=0.7.0 in /usr/local/lib/python3.7/dist-packages (from google-auth-oauthlib) (1.3.0)\n",
            "Requirement already satisfied: httplib2>=0.9.1 in /usr/local/lib/python3.7/dist-packages (from google-auth-httplib2) (0.17.4)\n",
            "Requirement already satisfied: pyasn1<0.5.0,>=0.4.6 in /usr/local/lib/python3.7/dist-packages (from pyasn1-modules>=0.2.1->google-auth) (0.4.8)\n",
            "Requirement already satisfied: oauthlib>=3.0.0 in /usr/local/lib/python3.7/dist-packages (from requests-oauthlib>=0.7.0->google-auth-oauthlib) (3.1.0)\n",
            "Requirement already satisfied: requests>=2.0.0 in /usr/local/lib/python3.7/dist-packages (from requests-oauthlib>=0.7.0->google-auth-oauthlib) (2.23.0)\n",
            "Requirement already satisfied: certifi>=2017.4.17 in /usr/local/lib/python3.7/dist-packages (from requests>=2.0.0->requests-oauthlib>=0.7.0->google-auth-oauthlib) (2020.12.5)\n",
            "Requirement already satisfied: urllib3!=1.25.0,!=1.25.1,<1.26,>=1.21.1 in /usr/local/lib/python3.7/dist-packages (from requests>=2.0.0->requests-oauthlib>=0.7.0->google-auth-oauthlib) (1.24.3)\n",
            "Requirement already satisfied: chardet<4,>=3.0.2 in /usr/local/lib/python3.7/dist-packages (from requests>=2.0.0->requests-oauthlib>=0.7.0->google-auth-oauthlib) (3.0.4)\n",
            "Requirement already satisfied: idna<3,>=2.5 in /usr/local/lib/python3.7/dist-packages (from requests>=2.0.0->requests-oauthlib>=0.7.0->google-auth-oauthlib) (2.10)\n"
          ],
          "name": "stdout"
        }
      ]
    },
    {
      "cell_type": "code",
      "metadata": {
        "colab": {
          "base_uri": "https://localhost:8080/"
        },
        "id": "DQj_Qr0fxbvh",
        "outputId": "f0f2a72a-b0bf-41b0-c034-ec25262dd4b6"
      },
      "source": [
        "pip install langdetect\n"
      ],
      "execution_count": null,
      "outputs": [
        {
          "output_type": "stream",
          "text": [
            "Requirement already satisfied: langdetect in /usr/local/lib/python3.7/dist-packages (1.0.9)\n",
            "Requirement already satisfied: six in /usr/local/lib/python3.7/dist-packages (from langdetect) (1.15.0)\n"
          ],
          "name": "stdout"
        }
      ]
    },
    {
      "cell_type": "code",
      "metadata": {
        "id": "RbEUq8fKxbxr"
      },
      "source": [
        "from googleapiclient.discovery import build\n",
        "from google_auth_oauthlib.flow import InstalledAppFlow\n",
        "import pandas as pd\n",
        "import demoji\n",
        "from langdetect import detect\n",
        "import re   # regular expression"
      ],
      "execution_count": 7,
      "outputs": []
    },
    {
      "cell_type": "code",
      "metadata": {
        "id": "cfBOdqp8yIK_"
      },
      "source": [
        "import pandas as pd\n"
      ],
      "execution_count": 8,
      "outputs": []
    },
    {
      "cell_type": "code",
      "metadata": {
        "id": "SHrCXGkKyIPC"
      },
      "source": [
        "CLIENT_SECRETS_FILE = \"client_secret.json\"\n"
      ],
      "execution_count": 12,
      "outputs": []
    },
    {
      "cell_type": "code",
      "metadata": {
        "id": "TMVkrFpZyISu"
      },
      "source": [
        "SCOPES = ['https://www.googleapis.com/auth/youtube.force-ssl']\n",
        "API_SERVICE_NAME = 'youtube'\n",
        "API_VERSION = 'v3'\n"
      ],
      "execution_count": 14,
      "outputs": []
    },
    {
      "cell_type": "code",
      "metadata": {
        "id": "GZKkFLKZyIWG"
      },
      "source": [
        "def get_authenticated_service():\n",
        "  flow = InstalledAppFlow.from_client_secrets_file(CLIENT_SECRETS_FILE, SCOPES)\n",
        "  credentials = flow.run_console()\n",
        "  return build(API_SERVICE_NAME, API_VERSION, credentials = credentials)"
      ],
      "execution_count": 15,
      "outputs": []
    },
    {
      "cell_type": "code",
      "metadata": {
        "colab": {
          "base_uri": "https://localhost:8080/"
        },
        "id": "yP57FBqHyPdT",
        "outputId": "ff52dd5b-ec1c-4691-aad4-0663ed2e668d"
      },
      "source": [
        "os.environ['OAUTHLIB_INSECURE_TRANSPORT'] = '1'\n",
        "service = get_authenticated_service()"
      ],
      "execution_count": 16,
      "outputs": [
        {
          "output_type": "stream",
          "text": [
            "Please visit this URL to authorize this application: https://accounts.google.com/o/oauth2/auth?response_type=code&client_id=347867505874-h5isugm7qip3n9tnvtf6s3utvcd3g49l.apps.googleusercontent.com&redirect_uri=urn%3Aietf%3Awg%3Aoauth%3A2.0%3Aoob&scope=https%3A%2F%2Fwww.googleapis.com%2Fauth%2Fyoutube.force-ssl&state=uPUIwAw59KD92zvmwDR9PWxPws4fFz&prompt=consent&access_type=offline\n",
            "Enter the authorization code: 4/1AY0e-g5AHXBJ5yHAXFLB8ASMu8riBHAx8qoitn0O6uvpqkDnzFCsuGVFFFg\n"
          ],
          "name": "stdout"
        }
      ]
    },
    {
      "cell_type": "markdown",
      "metadata": {
        "id": "nEp8e5_0zyBK"
      },
      "source": [
        "Set the search query i.e. video of which comments will be extracted¶\n"
      ]
    },
    {
      "cell_type": "code",
      "metadata": {
        "id": "kNmvGJPDyPf6"
      },
      "source": [
        "#query= \"Shark Tank Việt Nam 4 - Shark Liên bắt gặp Will 365 đi gọi vốn cùng startup Vua Cua\"\n",
        "query=\"Liên Khúc Một Lần Dang Dở 2020\"\n",
        "#query = \" Tầng Lớp Sinh Viên - Tập 22 (Tập Cuối) - Phim Sinh Viên - Tình Cảm | Hi Team - FAPtv\"\n",
        "#https://www.youtube.com/watch?v=hGsEr8KABhU"
      ],
      "execution_count": 112,
      "outputs": []
    },
    {
      "cell_type": "code",
      "metadata": {
        "id": "vpHopPtFzB7R"
      },
      "source": [
        "query_results = service.search().list(part = 'snippet',q = query,\n",
        "                                      order = 'relevance', \n",
        "                                      type = 'video',\n",
        "                                      relevanceLanguage = 'vi',\n",
        "                                      safeSearch = 'moderate').execute()"
      ],
      "execution_count": 113,
      "outputs": []
    },
    {
      "cell_type": "code",
      "metadata": {
        "id": "XGTWQmEOzB9U"
      },
      "source": [
        "#query_results['items']\n"
      ],
      "execution_count": null,
      "outputs": []
    },
    {
      "cell_type": "markdown",
      "metadata": {
        "id": "dKliOfUV0Yqm"
      },
      "source": [
        "**Extract video details i.e. videoID, channel Name, videoTitle, videoDescription¶\n",
        "**"
      ]
    },
    {
      "cell_type": "code",
      "metadata": {
        "id": "mKefK181zCBI"
      },
      "source": [
        "video_id = []\n",
        "channel = []\n",
        "video_title = []\n",
        "video_desc = []\n",
        "for item in query_results['items']:\n",
        "    video_id.append(item['id']['videoId'])\n",
        "    channel.append(item['snippet']['channelTitle'])\n",
        "    video_title.append(item['snippet']['title'])\n",
        "    video_desc.append(item['snippet']['description'])"
      ],
      "execution_count": 114,
      "outputs": []
    },
    {
      "cell_type": "markdown",
      "metadata": {
        "id": "eoNcS68L0tpz"
      },
      "source": [
        "We only wants to work with the one video so select the first element in list and save it\n"
      ]
    },
    {
      "cell_type": "code",
      "metadata": {
        "id": "9bE51SvryPlR"
      },
      "source": [
        "video_id = video_id[0]\n",
        "channel = channel[0]\n",
        "video_title = video_title[0]\n",
        "video_desc = video_desc[0]"
      ],
      "execution_count": 115,
      "outputs": []
    },
    {
      "cell_type": "code",
      "metadata": {
        "id": "jzOb6-uQ0rh5"
      },
      "source": [
        "\n"
      ],
      "execution_count": null,
      "outputs": []
    },
    {
      "cell_type": "markdown",
      "metadata": {
        "id": "UwoAkXlB08Lf"
      },
      "source": [
        "Extract comments"
      ]
    },
    {
      "cell_type": "code",
      "metadata": {
        "id": "uIgDFsTm0rkM"
      },
      "source": [
        "video_id_pop = []\n",
        "channel_pop = []\n",
        "video_title_pop = []\n",
        "video_desc_pop = []\n",
        "comments_pop = []\n",
        "comment_id_pop = []\n",
        "reply_count_pop = []\n",
        "like_count_pop = []\n",
        "\n",
        "\n",
        "comments_temp = []\n",
        "comment_id_temp = []\n",
        "reply_count_temp = []\n",
        "like_count_temp = []"
      ],
      "execution_count": 116,
      "outputs": []
    },
    {
      "cell_type": "code",
      "metadata": {
        "id": "f1uIC-h2WQC9"
      },
      "source": [
        "nextPage_token = None\n",
        "\n",
        "while 1:\n",
        "\n",
        "  response = service.commentThreads().list(\n",
        "                    part = 'snippet',\n",
        "                    videoId = video_id,\n",
        "                    maxResults = 100, \n",
        "                    order = 'relevance', \n",
        "                    textFormat = 'plainText',\n",
        "                    pageToken = nextPage_token).execute()\n",
        "\n",
        "  nextPage_token = response.get('nextPageToken')\n",
        "  for item in response['items']:\n",
        "      comments_temp.append(item['snippet']['topLevelComment']['snippet']['textDisplay'])\n",
        "      comment_id_temp.append(item['snippet']['topLevelComment']['id'])\n",
        "      reply_count_temp.append(item['snippet']['totalReplyCount'])\n",
        "      like_count_temp.append(item['snippet']['topLevelComment']['snippet']['likeCount'])\n",
        "      comments_pop.extend(comments_temp)\n",
        "      comment_id_pop.extend(comment_id_temp)\n",
        "      reply_count_pop.extend(reply_count_temp)\n",
        "      like_count_pop.extend(like_count_temp)\n",
        "        \n",
        "      video_id_pop.extend([video_id]*len(comments_temp))\n",
        "      channel_pop.extend([channel]*len(comments_temp))\n",
        "      video_title_pop.extend([video_title]*len(comments_temp))\n",
        "      video_desc_pop.extend([video_desc]*len(comments_temp))\n",
        "\n",
        "  if nextPage_token is  None:\n",
        "    break"
      ],
      "execution_count": 119,
      "outputs": []
    },
    {
      "cell_type": "code",
      "metadata": {
        "id": "P8zbpUYE0ro8"
      },
      "source": [
        "comments_pop"
      ],
      "execution_count": null,
      "outputs": []
    },
    {
      "cell_type": "markdown",
      "metadata": {
        "id": "UGXIELzS4Tgx"
      },
      "source": [
        "As per now comments have been extracted from youtube video and now we will save the comments into pandas dataframe and then write in csv file"
      ]
    },
    {
      "cell_type": "code",
      "metadata": {
        "id": "FFdRiroZ4PTF"
      },
      "source": [
        "output_dict = {\n",
        "        \n",
        "        'Comment': comments_temp,\n",
        "        'Comment ID': comment_id_temp,\n",
        "  \n",
        "        }\n",
        "\n",
        "output_df = pd.DataFrame(output_dict, columns = output_dict.keys())"
      ],
      "execution_count": 121,
      "outputs": []
    },
    {
      "cell_type": "code",
      "metadata": {
        "colab": {
          "base_uri": "https://localhost:8080/",
          "height": 197
        },
        "id": "PNiyVcb64PeC",
        "outputId": "4c050237-6498-4099-a0f5-5a6070488117"
      },
      "source": [
        "output_df.head()\n"
      ],
      "execution_count": 126,
      "outputs": [
        {
          "output_type": "execute_result",
          "data": {
            "text/html": [
              "<div>\n",
              "<style scoped>\n",
              "    .dataframe tbody tr th:only-of-type {\n",
              "        vertical-align: middle;\n",
              "    }\n",
              "\n",
              "    .dataframe tbody tr th {\n",
              "        vertical-align: top;\n",
              "    }\n",
              "\n",
              "    .dataframe thead th {\n",
              "        text-align: right;\n",
              "    }\n",
              "</style>\n",
              "<table border=\"1\" class=\"dataframe\">\n",
              "  <thead>\n",
              "    <tr style=\"text-align: right;\">\n",
              "      <th></th>\n",
              "      <th>Comment</th>\n",
              "      <th>Comment ID</th>\n",
              "    </tr>\n",
              "  </thead>\n",
              "  <tbody>\n",
              "    <tr>\n",
              "      <th>0</th>\n",
              "      <td>Nghe 2 ngày liền r😂</td>\n",
              "      <td>UgzZy_jjImTDvWhsqqV4AaABAg</td>\n",
              "    </tr>\n",
              "    <tr>\n",
              "      <th>1</th>\n",
              "      <td>Có ai 2k cùng sở thích nghe nhạc theo thế loại...</td>\n",
              "      <td>UgxSl2hjvJ6Cev-DHKt4AaABAg</td>\n",
              "    </tr>\n",
              "    <tr>\n",
              "      <th>2</th>\n",
              "      <td>Lâu lâu mở lại nghe vẫn chill vcl 🥰</td>\n",
              "      <td>UgwYKyAzbrQ35Pb_aXF4AaABAg</td>\n",
              "    </tr>\n",
              "    <tr>\n",
              "      <th>3</th>\n",
              "      <td>0:00 Một Lần Dang Dở\\r\\n1:43 Ai khổ Vì Ai\\r\\n5...</td>\n",
              "      <td>UgzAzF-kjWZKHgf0MQZ4AaABAg</td>\n",
              "    </tr>\n",
              "    <tr>\n",
              "      <th>4</th>\n",
              "      <td>0:52</td>\n",
              "      <td>Ugwnm7OASKSZgOdcjM14AaABAg</td>\n",
              "    </tr>\n",
              "  </tbody>\n",
              "</table>\n",
              "</div>"
            ],
            "text/plain": [
              "                                             Comment                  Comment ID\n",
              "0                                Nghe 2 ngày liền r😂  UgzZy_jjImTDvWhsqqV4AaABAg\n",
              "1  Có ai 2k cùng sở thích nghe nhạc theo thế loại...  UgxSl2hjvJ6Cev-DHKt4AaABAg\n",
              "2                Lâu lâu mở lại nghe vẫn chill vcl 🥰  UgwYKyAzbrQ35Pb_aXF4AaABAg\n",
              "3  0:00 Một Lần Dang Dở\\r\\n1:43 Ai khổ Vì Ai\\r\\n5...  UgzAzF-kjWZKHgf0MQZ4AaABAg\n",
              "4                                               0:52  Ugwnm7OASKSZgOdcjM14AaABAg"
            ]
          },
          "metadata": {
            "tags": []
          },
          "execution_count": 126
        }
      ]
    },
    {
      "cell_type": "markdown",
      "metadata": {
        "id": "VWdL6MTBbl0L"
      },
      "source": [
        "(**)\n"
      ]
    },
    {
      "cell_type": "code",
      "metadata": {
        "id": "PeZYC3wpXtrS"
      },
      "source": [
        "output_df.to_csv('coment.csv',encoding='utf-8',index= False)"
      ],
      "execution_count": 127,
      "outputs": []
    },
    {
      "cell_type": "code",
      "metadata": {
        "id": "aXjhEfyrYDkl"
      },
      "source": [
        ""
      ],
      "execution_count": null,
      "outputs": []
    },
    {
      "cell_type": "code",
      "metadata": {
        "colab": {
          "base_uri": "https://localhost:8080/"
        },
        "id": "_K7NHQm94PhC",
        "outputId": "d960d514-bd84-4d6f-e240-ba47d98aecaa"
      },
      "source": [
        "duplicates = output_df[output_df.duplicated(\"Comment ID\")]\n",
        "print(\"Count of duplicat comments in dataframe\", duplicates.shape[0])"
      ],
      "execution_count": 128,
      "outputs": [
        {
          "output_type": "stream",
          "text": [
            "Count of duplicat comments in dataframe 0\n"
          ],
          "name": "stdout"
        }
      ]
    },
    {
      "cell_type": "code",
      "metadata": {
        "id": "MDx3K1N64PlK"
      },
      "source": [
        "print(\"count of unique comments in dataframe \",output_df.shape[0]- duplicates.shape[0])\n"
      ],
      "execution_count": null,
      "outputs": []
    },
    {
      "cell_type": "code",
      "metadata": {
        "id": "a-W9OI4z5Cb4"
      },
      "source": [
        "unique_df = output_df.drop_duplicates(subset=['Comment'])\n"
      ],
      "execution_count": 130,
      "outputs": []
    },
    {
      "cell_type": "code",
      "metadata": {
        "id": "Lf8JcAeS5CeU"
      },
      "source": [
        "unique_df.shape\n"
      ],
      "execution_count": null,
      "outputs": []
    },
    {
      "cell_type": "code",
      "metadata": {
        "id": "vn4WrDor5Hh9"
      },
      "source": [
        "unique_df.head(20)\n"
      ],
      "execution_count": null,
      "outputs": []
    },
    {
      "cell_type": "code",
      "metadata": {
        "id": "jM_KaOmm5HkU"
      },
      "source": [
        "unique_df.to_csv(\"extraced_comments.csv\",encoding='utf-8',index = False)\n"
      ],
      "execution_count": 132,
      "outputs": []
    },
    {
      "cell_type": "markdown",
      "metadata": {
        "id": "FaA9fCbO54zm"
      },
      "source": [
        "Data cleaning"
      ]
    },
    {
      "cell_type": "code",
      "metadata": {
        "id": "TAM-gNNd5OQj"
      },
      "source": [
        "comments = pd.read_csv('extraced_comments.csv')\n"
      ],
      "execution_count": 133,
      "outputs": []
    },
    {
      "cell_type": "code",
      "metadata": {
        "id": "U3fOhkno59VL"
      },
      "source": [
        "comments.head()\n"
      ],
      "execution_count": null,
      "outputs": []
    },
    {
      "cell_type": "code",
      "metadata": {
        "colab": {
          "base_uri": "https://localhost:8080/"
        },
        "id": "nUPgP0xC59Xp",
        "outputId": "d6f1ad1a-3894-4e75-fe33-23c2808f1f71"
      },
      "source": [
        "demoji.download_codes()\n"
      ],
      "execution_count": 136,
      "outputs": [
        {
          "output_type": "stream",
          "text": [
            "Downloading emoji data ...\n",
            "... OK (Got response in 0.13 seconds)\n",
            "Writing emoji data to /root/.demoji/codes.json ...\n",
            "... OK\n"
          ],
          "name": "stdout"
        }
      ]
    },
    {
      "cell_type": "code",
      "metadata": {
        "id": "hlg-7Iic5OSt"
      },
      "source": [
        "comments['clean_comments'] = comments['Comment'].apply(lambda x: demoji.replace(x,\"\"))\n"
      ],
      "execution_count": 137,
      "outputs": []
    },
    {
      "cell_type": "code",
      "metadata": {
        "colab": {
          "base_uri": "https://localhost:8080/",
          "height": 247
        },
        "id": "Qfofdopa6a8z",
        "outputId": "5e4763c4-fa34-472d-f5c3-d52805ccaa6f"
      },
      "source": [
        "comments.head()"
      ],
      "execution_count": 138,
      "outputs": [
        {
          "output_type": "execute_result",
          "data": {
            "text/html": [
              "<div>\n",
              "<style scoped>\n",
              "    .dataframe tbody tr th:only-of-type {\n",
              "        vertical-align: middle;\n",
              "    }\n",
              "\n",
              "    .dataframe tbody tr th {\n",
              "        vertical-align: top;\n",
              "    }\n",
              "\n",
              "    .dataframe thead th {\n",
              "        text-align: right;\n",
              "    }\n",
              "</style>\n",
              "<table border=\"1\" class=\"dataframe\">\n",
              "  <thead>\n",
              "    <tr style=\"text-align: right;\">\n",
              "      <th></th>\n",
              "      <th>Comment</th>\n",
              "      <th>Comment ID</th>\n",
              "      <th>clean_comments</th>\n",
              "    </tr>\n",
              "  </thead>\n",
              "  <tbody>\n",
              "    <tr>\n",
              "      <th>0</th>\n",
              "      <td>Nghe 2 ngày liền r😂</td>\n",
              "      <td>UgzZy_jjImTDvWhsqqV4AaABAg</td>\n",
              "      <td>Nghe 2 ngày liền r</td>\n",
              "    </tr>\n",
              "    <tr>\n",
              "      <th>1</th>\n",
              "      <td>Có ai 2k cùng sở thích nghe nhạc theo thế loại...</td>\n",
              "      <td>UgxSl2hjvJ6Cev-DHKt4AaABAg</td>\n",
              "      <td>Có ai 2k cùng sở thích nghe nhạc theo thế loại...</td>\n",
              "    </tr>\n",
              "    <tr>\n",
              "      <th>2</th>\n",
              "      <td>Lâu lâu mở lại nghe vẫn chill vcl 🥰</td>\n",
              "      <td>UgwYKyAzbrQ35Pb_aXF4AaABAg</td>\n",
              "      <td>Lâu lâu mở lại nghe vẫn chill vcl</td>\n",
              "    </tr>\n",
              "    <tr>\n",
              "      <th>3</th>\n",
              "      <td>0:00 Một Lần Dang Dở\\r\\n1:43 Ai khổ Vì Ai\\r\\n5...</td>\n",
              "      <td>UgzAzF-kjWZKHgf0MQZ4AaABAg</td>\n",
              "      <td>0:00 Một Lần Dang Dở\\r\\n1:43 Ai khổ Vì Ai\\r\\n5...</td>\n",
              "    </tr>\n",
              "    <tr>\n",
              "      <th>4</th>\n",
              "      <td>0:52</td>\n",
              "      <td>Ugwnm7OASKSZgOdcjM14AaABAg</td>\n",
              "      <td>0:52</td>\n",
              "    </tr>\n",
              "  </tbody>\n",
              "</table>\n",
              "</div>"
            ],
            "text/plain": [
              "                                             Comment  ...                                     clean_comments\n",
              "0                                Nghe 2 ngày liền r😂  ...                                 Nghe 2 ngày liền r\n",
              "1  Có ai 2k cùng sở thích nghe nhạc theo thế loại...  ...  Có ai 2k cùng sở thích nghe nhạc theo thế loại...\n",
              "2                Lâu lâu mở lại nghe vẫn chill vcl 🥰  ...                 Lâu lâu mở lại nghe vẫn chill vcl \n",
              "3  0:00 Một Lần Dang Dở\\r\\n1:43 Ai khổ Vì Ai\\r\\n5...  ...  0:00 Một Lần Dang Dở\\r\\n1:43 Ai khổ Vì Ai\\r\\n5...\n",
              "4                                               0:52  ...                                               0:52\n",
              "\n",
              "[5 rows x 3 columns]"
            ]
          },
          "metadata": {
            "tags": []
          },
          "execution_count": 138
        }
      ]
    },
    {
      "cell_type": "code",
      "metadata": {
        "id": "KE4cmqwk6a_S"
      },
      "source": [
        "from langdetect import detect\n"
      ],
      "execution_count": 139,
      "outputs": []
    },
    {
      "cell_type": "markdown",
      "metadata": {
        "id": "PObGlc5A6tFr"
      },
      "source": [
        " add new feature language inthe dataframe which signify the language of particular comment\n"
      ]
    },
    {
      "cell_type": "code",
      "metadata": {
        "id": "UGzHgDaY6bBO"
      },
      "source": [
        "comments['language'] = 0\n"
      ],
      "execution_count": 140,
      "outputs": []
    },
    {
      "cell_type": "code",
      "metadata": {
        "colab": {
          "base_uri": "https://localhost:8080/"
        },
        "id": "X2efl0qK6o6w",
        "outputId": "5b326306-ea6e-4be1-d47f-ac47b4f9779a"
      },
      "source": [
        "count = 0\n",
        "for i in range(0,len(comments)):\n",
        "\n",
        "\n",
        "  temp = comments['clean_comments'].iloc[i]\n",
        "  count += 1\n",
        "  try:\n",
        "    comments['language'].iloc[i] = detect(temp)\n",
        "  except:\n",
        "    comments['language'].iloc[i] = \"error\""
      ],
      "execution_count": 141,
      "outputs": [
        {
          "output_type": "stream",
          "text": [
            "/usr/local/lib/python3.7/dist-packages/pandas/core/indexing.py:670: SettingWithCopyWarning: \n",
            "A value is trying to be set on a copy of a slice from a DataFrame\n",
            "\n",
            "See the caveats in the documentation: https://pandas.pydata.org/pandas-docs/stable/user_guide/indexing.html#returning-a-view-versus-a-copy\n",
            "  iloc._setitem_with_indexer(indexer, value)\n"
          ],
          "name": "stderr"
        }
      ]
    },
    {
      "cell_type": "code",
      "metadata": {
        "colab": {
          "base_uri": "https://localhost:8080/"
        },
        "id": "PRz_6KmA6o9C",
        "outputId": "ec5fdc55-7810-447c-f4b2-295e28870003"
      },
      "source": [
        "comments[comments['language']=='vi']['language'].value_counts()\n"
      ],
      "execution_count": 142,
      "outputs": [
        {
          "output_type": "execute_result",
          "data": {
            "text/plain": [
              "vi    707\n",
              "Name: language, dtype: int64"
            ]
          },
          "metadata": {
            "tags": []
          },
          "execution_count": 142
        }
      ]
    },
    {
      "cell_type": "code",
      "metadata": {
        "id": "FLFyqYEU6o_C"
      },
      "source": [
        "vi_comm = comments[comments['language'] == 'vi']\n"
      ],
      "execution_count": 143,
      "outputs": []
    },
    {
      "cell_type": "code",
      "metadata": {
        "id": "kUdLqqEi7D5y"
      },
      "source": [
        "vi_comm.to_csv(\"vi2_comments.csv\",index = False)\n"
      ],
      "execution_count": 144,
      "outputs": []
    },
    {
      "cell_type": "code",
      "metadata": {
        "id": "ZT0KGin37MK4"
      },
      "source": [
        "vi_comments = pd.read_csv('vi2_comments.csv',encoding='utf-8',error_bad_lines=False)\n"
      ],
      "execution_count": 145,
      "outputs": []
    },
    {
      "cell_type": "code",
      "metadata": {
        "colab": {
          "base_uri": "https://localhost:8080/",
          "height": 281
        },
        "id": "iHw_XdK97MNS",
        "outputId": "1b67f66c-80b5-444d-c5ee-a92357949e60"
      },
      "source": [
        "vi_comments.head()\n"
      ],
      "execution_count": 146,
      "outputs": [
        {
          "output_type": "execute_result",
          "data": {
            "text/html": [
              "<div>\n",
              "<style scoped>\n",
              "    .dataframe tbody tr th:only-of-type {\n",
              "        vertical-align: middle;\n",
              "    }\n",
              "\n",
              "    .dataframe tbody tr th {\n",
              "        vertical-align: top;\n",
              "    }\n",
              "\n",
              "    .dataframe thead th {\n",
              "        text-align: right;\n",
              "    }\n",
              "</style>\n",
              "<table border=\"1\" class=\"dataframe\">\n",
              "  <thead>\n",
              "    <tr style=\"text-align: right;\">\n",
              "      <th></th>\n",
              "      <th>Comment</th>\n",
              "      <th>Comment ID</th>\n",
              "      <th>clean_comments</th>\n",
              "      <th>language</th>\n",
              "    </tr>\n",
              "  </thead>\n",
              "  <tbody>\n",
              "    <tr>\n",
              "      <th>0</th>\n",
              "      <td>Nghe 2 ngày liền r😂</td>\n",
              "      <td>UgzZy_jjImTDvWhsqqV4AaABAg</td>\n",
              "      <td>Nghe 2 ngày liền r</td>\n",
              "      <td>vi</td>\n",
              "    </tr>\n",
              "    <tr>\n",
              "      <th>1</th>\n",
              "      <td>Có ai 2k cùng sở thích nghe nhạc theo thế loại...</td>\n",
              "      <td>UgxSl2hjvJ6Cev-DHKt4AaABAg</td>\n",
              "      <td>Có ai 2k cùng sở thích nghe nhạc theo thế loại...</td>\n",
              "      <td>vi</td>\n",
              "    </tr>\n",
              "    <tr>\n",
              "      <th>2</th>\n",
              "      <td>Lâu lâu mở lại nghe vẫn chill vcl 🥰</td>\n",
              "      <td>UgwYKyAzbrQ35Pb_aXF4AaABAg</td>\n",
              "      <td>Lâu lâu mở lại nghe vẫn chill vcl</td>\n",
              "      <td>vi</td>\n",
              "    </tr>\n",
              "    <tr>\n",
              "      <th>3</th>\n",
              "      <td>0:00 Một Lần Dang Dở\\r\\n1:43 Ai khổ Vì Ai\\r\\n5...</td>\n",
              "      <td>UgzAzF-kjWZKHgf0MQZ4AaABAg</td>\n",
              "      <td>0:00 Một Lần Dang Dở\\r\\n1:43 Ai khổ Vì Ai\\r\\n5...</td>\n",
              "      <td>vi</td>\n",
              "    </tr>\n",
              "    <tr>\n",
              "      <th>4</th>\n",
              "      <td>Ghi nhớ ngày nay 22/6 nào vô xem lại 😭😭😭</td>\n",
              "      <td>UgzDYfPR7wXvZQ2ft5h4AaABAg</td>\n",
              "      <td>Ghi nhớ ngày nay 22/6 nào vô xem lại</td>\n",
              "      <td>vi</td>\n",
              "    </tr>\n",
              "  </tbody>\n",
              "</table>\n",
              "</div>"
            ],
            "text/plain": [
              "                                             Comment  ... language\n",
              "0                                Nghe 2 ngày liền r😂  ...       vi\n",
              "1  Có ai 2k cùng sở thích nghe nhạc theo thế loại...  ...       vi\n",
              "2                Lâu lâu mở lại nghe vẫn chill vcl 🥰  ...       vi\n",
              "3  0:00 Một Lần Dang Dở\\r\\n1:43 Ai khổ Vì Ai\\r\\n5...  ...       vi\n",
              "4           Ghi nhớ ngày nay 22/6 nào vô xem lại 😭😭😭  ...       vi\n",
              "\n",
              "[5 rows x 4 columns]"
            ]
          },
          "metadata": {
            "tags": []
          },
          "execution_count": 146
        }
      ]
    },
    {
      "cell_type": "code",
      "metadata": {
        "colab": {
          "base_uri": "https://localhost:8080/"
        },
        "id": "b7de5oyX7MPX",
        "outputId": "68d30ddb-8a8e-4357-85df-5dc7c209df14"
      },
      "source": [
        "\n",
        "vi_comments.shape\n"
      ],
      "execution_count": 147,
      "outputs": [
        {
          "output_type": "execute_result",
          "data": {
            "text/plain": [
              "(707, 4)"
            ]
          },
          "metadata": {
            "tags": []
          },
          "execution_count": 147
        }
      ]
    },
    {
      "cell_type": "code",
      "metadata": {
        "id": "TMm-X98c8P8V"
      },
      "source": [
        "regex= r\"\\b\\S*[AĂÂÁẮẤÀẰẦẢẲẨÃẴẪẠẶẬĐEÊÉẾÈỀẺỂẼỄẸỆIÍÌỈĨỊOÔƠÓỐỚÒỒỜỎỔỞÕỖỠỌỘỢUƯÚỨÙỪỦỬŨỮỤỰYÝỲỶỸỴAĂÂÁẮẤÀẰẦẢẲẨÃẴẪẠẶẬĐEÊÉẾÈỀẺỂẼỄẸỆIÍÌỈĨỊOÔƠÓỐỚÒỒỜỎỔỞÕỖỠỌỘỢUƯÚỨÙỪỦỬŨỮỤỰYÝỲỶỸỴAĂÂÁẮẤÀẰẦẢẲẨÃẴẪẠẶẬĐEÊÉẾÈỀẺỂẼỄẸỆIÍÌỈĨỊOÔƠÓỐỚÒỒỜỎỔỞÕỖỠỌỘỢUƯÚỨÙỪỦỬŨỮỤỰYÝỲỶỸỴAĂÂÁẮẤÀẰẦẢẲẨÃẴẪẠẶẬĐEÊÉẾÈỀẺỂẼỄẸỆIÍÌỈĨỊOÔƠÓỐỚÒỒỜỎỔỞÕỖỠỌỘỢUƯÚỨÙỪỦỬŨỮỤỰYÝỲỶỸỴAĂÂÁẮẤÀẰẦẢẲẨÃẴẪẠẶẬĐEÊÉẾÈỀẺỂẼỄẸỆIÍÌỈĨỊOÔƠÓỐỚÒỒỜỎỔỞÕỖỠỌỘỢUƯÚỨÙỪỦỬŨỮỤỰYÝỲỶỸỴAĂÂÁẮẤÀẰẦẢẲẨÃẴẪẠẶẬĐEÊÉẾÈỀẺỂẼỄẸỆIÍÌỈĨỊOÔƠÓỐỚÒỒỜỎỔỞÕỖỠỌỘỢUƯÚỨÙỪỦỬŨỮỤỰYÝỲỶỸỴA-Z]+\\S*\\b\"\n"
      ],
      "execution_count": 148,
      "outputs": []
    },
    {
      "cell_type": "code",
      "metadata": {
        "id": "ABqzvVu-8P-r"
      },
      "source": [
        "copy = vi_comments.copy()\n"
      ],
      "execution_count": 149,
      "outputs": []
    },
    {
      "cell_type": "code",
      "metadata": {
        "id": "XOYmTR8-QTWV"
      },
      "source": [
        "copy['reg'] = copy['clean_comments'].apply(lambda x:re.findall(regex,x))\n",
        "copy['regular_comments'] = copy['clean_comments'].apply(lambda x:re.sub(regex,\"  \",x))"
      ],
      "execution_count": 150,
      "outputs": []
    },
    {
      "cell_type": "code",
      "metadata": {
        "colab": {
          "base_uri": "https://localhost:8080/",
          "height": 1000
        },
        "id": "JrIPrMzPQUKm",
        "outputId": "908125ea-0b2d-4463-dda2-1ac7a5fd514e"
      },
      "source": [
        "copy.head(20)"
      ],
      "execution_count": 151,
      "outputs": [
        {
          "output_type": "execute_result",
          "data": {
            "text/html": [
              "<div>\n",
              "<style scoped>\n",
              "    .dataframe tbody tr th:only-of-type {\n",
              "        vertical-align: middle;\n",
              "    }\n",
              "\n",
              "    .dataframe tbody tr th {\n",
              "        vertical-align: top;\n",
              "    }\n",
              "\n",
              "    .dataframe thead th {\n",
              "        text-align: right;\n",
              "    }\n",
              "</style>\n",
              "<table border=\"1\" class=\"dataframe\">\n",
              "  <thead>\n",
              "    <tr style=\"text-align: right;\">\n",
              "      <th></th>\n",
              "      <th>Comment</th>\n",
              "      <th>Comment ID</th>\n",
              "      <th>clean_comments</th>\n",
              "      <th>language</th>\n",
              "      <th>reg</th>\n",
              "      <th>regular_comments</th>\n",
              "    </tr>\n",
              "  </thead>\n",
              "  <tbody>\n",
              "    <tr>\n",
              "      <th>0</th>\n",
              "      <td>Nghe 2 ngày liền r😂</td>\n",
              "      <td>UgzZy_jjImTDvWhsqqV4AaABAg</td>\n",
              "      <td>Nghe 2 ngày liền r</td>\n",
              "      <td>vi</td>\n",
              "      <td>[Nghe]</td>\n",
              "      <td>2 ngày liền r</td>\n",
              "    </tr>\n",
              "    <tr>\n",
              "      <th>1</th>\n",
              "      <td>Có ai 2k cùng sở thích nghe nhạc theo thế loại...</td>\n",
              "      <td>UgxSl2hjvJ6Cev-DHKt4AaABAg</td>\n",
              "      <td>Có ai 2k cùng sở thích nghe nhạc theo thế loại...</td>\n",
              "      <td>vi</td>\n",
              "      <td>[Có]</td>\n",
              "      <td>ai 2k cùng sở thích nghe nhạc theo thế loại...</td>\n",
              "    </tr>\n",
              "    <tr>\n",
              "      <th>2</th>\n",
              "      <td>Lâu lâu mở lại nghe vẫn chill vcl 🥰</td>\n",
              "      <td>UgwYKyAzbrQ35Pb_aXF4AaABAg</td>\n",
              "      <td>Lâu lâu mở lại nghe vẫn chill vcl</td>\n",
              "      <td>vi</td>\n",
              "      <td>[Lâu]</td>\n",
              "      <td>lâu mở lại nghe vẫn chill vcl</td>\n",
              "    </tr>\n",
              "    <tr>\n",
              "      <th>3</th>\n",
              "      <td>0:00 Một Lần Dang Dở\\r\\n1:43 Ai khổ Vì Ai\\r\\n5...</td>\n",
              "      <td>UgzAzF-kjWZKHgf0MQZ4AaABAg</td>\n",
              "      <td>0:00 Một Lần Dang Dở\\r\\n1:43 Ai khổ Vì Ai\\r\\n5...</td>\n",
              "      <td>vi</td>\n",
              "      <td>[Một, Lần, Dang, Dở, Ai, Vì, Ai, Gặp, Nhau, Là...</td>\n",
              "      <td>0:00            \\r\\n1:43    khổ      \\r\\n5:30 ...</td>\n",
              "    </tr>\n",
              "    <tr>\n",
              "      <th>4</th>\n",
              "      <td>Ghi nhớ ngày nay 22/6 nào vô xem lại 😭😭😭</td>\n",
              "      <td>UgzDYfPR7wXvZQ2ft5h4AaABAg</td>\n",
              "      <td>Ghi nhớ ngày nay 22/6 nào vô xem lại</td>\n",
              "      <td>vi</td>\n",
              "      <td>[Ghi]</td>\n",
              "      <td>nhớ ngày nay 22/6 nào vô xem lại</td>\n",
              "    </tr>\n",
              "    <tr>\n",
              "      <th>5</th>\n",
              "      <td>06:35 Muốn có một mối quan hệ mập mờ … 🔼</td>\n",
              "      <td>UgyApZ-VENA9ZOT3_ph4AaABAg</td>\n",
              "      <td>06:35 Muốn có một mối quan hệ mập mờ …</td>\n",
              "      <td>vi</td>\n",
              "      <td>[Muốn]</td>\n",
              "      <td>06:35    có một mối quan hệ mập mờ …</td>\n",
              "    </tr>\n",
              "    <tr>\n",
              "      <th>6</th>\n",
              "      <td>đang đợi nhanh đến tết để mở mấy bài này :))</td>\n",
              "      <td>UgywH93Ns3RKAzNAW9V4AaABAg</td>\n",
              "      <td>đang đợi nhanh đến tết để mở mấy bài này :))</td>\n",
              "      <td>vi</td>\n",
              "      <td>[]</td>\n",
              "      <td>đang đợi nhanh đến tết để mở mấy bài này :))</td>\n",
              "    </tr>\n",
              "    <tr>\n",
              "      <th>7</th>\n",
              "      <td>04:16  Còn anh thì chỉ của mình em thôi. 🐧🕊</td>\n",
              "      <td>UgxZlQMybuvRRetsnuZ4AaABAg</td>\n",
              "      <td>04:16  Còn anh thì chỉ của mình em thôi.</td>\n",
              "      <td>vi</td>\n",
              "      <td>[Còn]</td>\n",
              "      <td>04:16     anh thì chỉ của mình em thôi.</td>\n",
              "    </tr>\n",
              "    <tr>\n",
              "      <th>8</th>\n",
              "      <td>Mình thích thể loại này. Nhạc trữ tình nhưng p...</td>\n",
              "      <td>UgxDaexXFTD0aQQ1MKl4AaABAg</td>\n",
              "      <td>Mình thích thể loại này. Nhạc trữ tình nhưng p...</td>\n",
              "      <td>vi</td>\n",
              "      <td>[Mình, Nhạc]</td>\n",
              "      <td>thích thể loại này.    trữ tình nhưng phối ...</td>\n",
              "    </tr>\n",
              "    <tr>\n",
              "      <th>9</th>\n",
              "      <td>mấy bài này có độ bánh cuốn ghê cơ ý ^^, thỉnh...</td>\n",
              "      <td>UgxONwbz0FRZ1Q3pm8N4AaABAg</td>\n",
              "      <td>mấy bài này có độ bánh cuốn ghê cơ ý ^^, thỉnh...</td>\n",
              "      <td>vi</td>\n",
              "      <td>[]</td>\n",
              "      <td>mấy bài này có độ bánh cuốn ghê cơ ý ^^, thỉnh...</td>\n",
              "    </tr>\n",
              "    <tr>\n",
              "      <th>10</th>\n",
              "      <td>06:35  Chồng tương lai ơi, em chờ anh hơi lâu ...</td>\n",
              "      <td>UgwhlqGlBq5YtYQQCy54AaABAg</td>\n",
              "      <td>06:35  Chồng tương lai ơi, em chờ anh hơi lâu ...</td>\n",
              "      <td>vi</td>\n",
              "      <td>[Chồng]</td>\n",
              "      <td>06:35     tương lai ơi, em chờ anh hơi lâu rồi...</td>\n",
              "    </tr>\n",
              "    <tr>\n",
              "      <th>11</th>\n",
              "      <td>Không biết nói gì hơn ngoài hai chữ \"TUYỆT VỜI\" ❤</td>\n",
              "      <td>UgxxrY4UfR2RdjKHuFJ4AaABAg</td>\n",
              "      <td>Không biết nói gì hơn ngoài hai chữ \"TUYỆT VỜI\"</td>\n",
              "      <td>vi</td>\n",
              "      <td>[Không, TUYỆT, VỜI]</td>\n",
              "      <td>biết nói gì hơn ngoài hai chữ \"     \"</td>\n",
              "    </tr>\n",
              "    <tr>\n",
              "      <th>12</th>\n",
              "      <td>03:13 Hãy mạnh mẽ như xương rồng trước bão giô...</td>\n",
              "      <td>UgyYhdq6uPIxz4Afx354AaABAg</td>\n",
              "      <td>03:13 Hãy mạnh mẽ như xương rồng trước bão giông</td>\n",
              "      <td>vi</td>\n",
              "      <td>[Hãy]</td>\n",
              "      <td>03:13    mạnh mẽ như xương rồng trước bão giông</td>\n",
              "    </tr>\n",
              "    <tr>\n",
              "      <th>13</th>\n",
              "      <td>Ai thick bài một lần dang dở cho like nha❤❤❤❤❤❤</td>\n",
              "      <td>UgxKdUMWgqmEWu4E8-l4AaABAg</td>\n",
              "      <td>Ai thick bài một lần dang dở cho like nha</td>\n",
              "      <td>vi</td>\n",
              "      <td>[Ai]</td>\n",
              "      <td>thick bài một lần dang dở cho like nha</td>\n",
              "    </tr>\n",
              "    <tr>\n",
              "      <th>14</th>\n",
              "      <td>Ai rap bài Phượng buồn đó mn ơi?</td>\n",
              "      <td>UgzTN-KEzXrzEp6R1Jh4AaABAg</td>\n",
              "      <td>Ai rap bài Phượng buồn đó mn ơi?</td>\n",
              "      <td>vi</td>\n",
              "      <td>[Ai, Phượng]</td>\n",
              "      <td>rap bài    buồn đó mn ơi?</td>\n",
              "    </tr>\n",
              "    <tr>\n",
              "      <th>15</th>\n",
              "      <td>Cứ nghiện cái bài nhớ khi xưa lạ nhau này  😍</td>\n",
              "      <td>UgyW1XG8PGIOQUE6pbd4AaABAg</td>\n",
              "      <td>Cứ nghiện cái bài nhớ khi xưa lạ nhau này</td>\n",
              "      <td>vi</td>\n",
              "      <td>[Cứ]</td>\n",
              "      <td>nghiện cái bài nhớ khi xưa lạ nhau này</td>\n",
              "    </tr>\n",
              "    <tr>\n",
              "      <th>16</th>\n",
              "      <td>02:23  Cần tin nhắn mỗi ngày, cần ai đó quan t...</td>\n",
              "      <td>UgzEzR2w60Na-c9aiZV4AaABAg</td>\n",
              "      <td>02:23  Cần tin nhắn mỗi ngày, cần ai đó quan t...</td>\n",
              "      <td>vi</td>\n",
              "      <td>[Cần]</td>\n",
              "      <td>02:23     tin nhắn mỗi ngày, cần ai đó quan tâ...</td>\n",
              "    </tr>\n",
              "    <tr>\n",
              "      <th>17</th>\n",
              "      <td>Ru con hằng ngày luôn hehe</td>\n",
              "      <td>Ugyn60AamPptEaYMO054AaABAg</td>\n",
              "      <td>Ru con hằng ngày luôn hehe</td>\n",
              "      <td>vi</td>\n",
              "      <td>[Ru]</td>\n",
              "      <td>con hằng ngày luôn hehe</td>\n",
              "    </tr>\n",
              "    <tr>\n",
              "      <th>18</th>\n",
              "      <td>Trời ơi nghe thấy nghiện luôn</td>\n",
              "      <td>Ugxph6AdMmfDLRAMJaJ4AaABAg</td>\n",
              "      <td>Trời ơi nghe thấy nghiện luôn</td>\n",
              "      <td>vi</td>\n",
              "      <td>[Trời]</td>\n",
              "      <td>ơi nghe thấy nghiện luôn</td>\n",
              "    </tr>\n",
              "    <tr>\n",
              "      <th>19</th>\n",
              "      <td>*_19/10/2020_*\\n_Ai còn nghe ko, xin cái tay_\\...</td>\n",
              "      <td>Ugxg2Hm3FD5T0wpdbAd4AaABAg</td>\n",
              "      <td>*_19/10/2020_*\\n_Ai còn nghe ko, xin cái tay_\\...</td>\n",
              "      <td>vi</td>\n",
              "      <td>[_Ai, Cre:Huy]</td>\n",
              "      <td>*_19/10/2020_*\\n   còn nghe ko, xin cái tay_\\n...</td>\n",
              "    </tr>\n",
              "  </tbody>\n",
              "</table>\n",
              "</div>"
            ],
            "text/plain": [
              "                                              Comment  ...                                   regular_comments\n",
              "0                                 Nghe 2 ngày liền r😂  ...                                      2 ngày liền r\n",
              "1   Có ai 2k cùng sở thích nghe nhạc theo thế loại...  ...     ai 2k cùng sở thích nghe nhạc theo thế loại...\n",
              "2                 Lâu lâu mở lại nghe vẫn chill vcl 🥰  ...                     lâu mở lại nghe vẫn chill vcl \n",
              "3   0:00 Một Lần Dang Dở\\r\\n1:43 Ai khổ Vì Ai\\r\\n5...  ...  0:00            \\r\\n1:43    khổ      \\r\\n5:30 ...\n",
              "4            Ghi nhớ ngày nay 22/6 nào vô xem lại 😭😭😭  ...                  nhớ ngày nay 22/6 nào vô xem lại \n",
              "5            06:35 Muốn có một mối quan hệ mập mờ … 🔼  ...              06:35    có một mối quan hệ mập mờ … \n",
              "6        đang đợi nhanh đến tết để mở mấy bài này :))  ...       đang đợi nhanh đến tết để mở mấy bài này :))\n",
              "7         04:16  Còn anh thì chỉ của mình em thôi. 🐧🕊  ...           04:16     anh thì chỉ của mình em thôi. \n",
              "8   Mình thích thể loại này. Nhạc trữ tình nhưng p...  ...     thích thể loại này.    trữ tình nhưng phối ...\n",
              "9   mấy bài này có độ bánh cuốn ghê cơ ý ^^, thỉnh...  ...  mấy bài này có độ bánh cuốn ghê cơ ý ^^, thỉnh...\n",
              "10  06:35  Chồng tương lai ơi, em chờ anh hơi lâu ...  ...  06:35     tương lai ơi, em chờ anh hơi lâu rồi...\n",
              "11  Không biết nói gì hơn ngoài hai chữ \"TUYỆT VỜI\" ❤  ...             biết nói gì hơn ngoài hai chữ \"     \" \n",
              "12  03:13 Hãy mạnh mẽ như xương rồng trước bão giô...  ...   03:13    mạnh mẽ như xương rồng trước bão giông \n",
              "13    Ai thick bài một lần dang dở cho like nha❤❤❤❤❤❤  ...             thick bài một lần dang dở cho like nha\n",
              "14                   Ai rap bài Phượng buồn đó mn ơi?  ...                          rap bài    buồn đó mn ơi?\n",
              "15       Cứ nghiện cái bài nhớ khi xưa lạ nhau này  😍  ...           nghiện cái bài nhớ khi xưa lạ nhau này  \n",
              "16  02:23  Cần tin nhắn mỗi ngày, cần ai đó quan t...  ...  02:23     tin nhắn mỗi ngày, cần ai đó quan tâ...\n",
              "17                         Ru con hằng ngày luôn hehe  ...                            con hằng ngày luôn hehe\n",
              "18                      Trời ơi nghe thấy nghiện luôn  ...                           ơi nghe thấy nghiện luôn\n",
              "19  *_19/10/2020_*\\n_Ai còn nghe ko, xin cái tay_\\...  ...  *_19/10/2020_*\\n   còn nghe ko, xin cái tay_\\n...\n",
              "\n",
              "[20 rows x 6 columns]"
            ]
          },
          "metadata": {
            "tags": []
          },
          "execution_count": 151
        }
      ]
    },
    {
      "cell_type": "code",
      "metadata": {
        "id": "0bkXlb3Q7hk1"
      },
      "source": [
        "dataset = copy[['Comment ID','regular_comments']].copy()\n"
      ],
      "execution_count": 152,
      "outputs": []
    },
    {
      "cell_type": "code",
      "metadata": {
        "colab": {
          "base_uri": "https://localhost:8080/",
          "height": 197
        },
        "id": "iZj6Oq2e7hnJ",
        "outputId": "a5799d78-c1ff-4078-ecc8-55f4705c7b9c"
      },
      "source": [
        "dataset.head()\n"
      ],
      "execution_count": 153,
      "outputs": [
        {
          "output_type": "execute_result",
          "data": {
            "text/html": [
              "<div>\n",
              "<style scoped>\n",
              "    .dataframe tbody tr th:only-of-type {\n",
              "        vertical-align: middle;\n",
              "    }\n",
              "\n",
              "    .dataframe tbody tr th {\n",
              "        vertical-align: top;\n",
              "    }\n",
              "\n",
              "    .dataframe thead th {\n",
              "        text-align: right;\n",
              "    }\n",
              "</style>\n",
              "<table border=\"1\" class=\"dataframe\">\n",
              "  <thead>\n",
              "    <tr style=\"text-align: right;\">\n",
              "      <th></th>\n",
              "      <th>Comment ID</th>\n",
              "      <th>regular_comments</th>\n",
              "    </tr>\n",
              "  </thead>\n",
              "  <tbody>\n",
              "    <tr>\n",
              "      <th>0</th>\n",
              "      <td>UgzZy_jjImTDvWhsqqV4AaABAg</td>\n",
              "      <td>2 ngày liền r</td>\n",
              "    </tr>\n",
              "    <tr>\n",
              "      <th>1</th>\n",
              "      <td>UgxSl2hjvJ6Cev-DHKt4AaABAg</td>\n",
              "      <td>ai 2k cùng sở thích nghe nhạc theo thế loại...</td>\n",
              "    </tr>\n",
              "    <tr>\n",
              "      <th>2</th>\n",
              "      <td>UgwYKyAzbrQ35Pb_aXF4AaABAg</td>\n",
              "      <td>lâu mở lại nghe vẫn chill vcl</td>\n",
              "    </tr>\n",
              "    <tr>\n",
              "      <th>3</th>\n",
              "      <td>UgzAzF-kjWZKHgf0MQZ4AaABAg</td>\n",
              "      <td>0:00            \\r\\n1:43    khổ      \\r\\n5:30 ...</td>\n",
              "    </tr>\n",
              "    <tr>\n",
              "      <th>4</th>\n",
              "      <td>UgzDYfPR7wXvZQ2ft5h4AaABAg</td>\n",
              "      <td>nhớ ngày nay 22/6 nào vô xem lại</td>\n",
              "    </tr>\n",
              "  </tbody>\n",
              "</table>\n",
              "</div>"
            ],
            "text/plain": [
              "                   Comment ID                                   regular_comments\n",
              "0  UgzZy_jjImTDvWhsqqV4AaABAg                                      2 ngày liền r\n",
              "1  UgxSl2hjvJ6Cev-DHKt4AaABAg     ai 2k cùng sở thích nghe nhạc theo thế loại...\n",
              "2  UgwYKyAzbrQ35Pb_aXF4AaABAg                     lâu mở lại nghe vẫn chill vcl \n",
              "3  UgzAzF-kjWZKHgf0MQZ4AaABAg  0:00            \\r\\n1:43    khổ      \\r\\n5:30 ...\n",
              "4  UgzDYfPR7wXvZQ2ft5h4AaABAg                  nhớ ngày nay 22/6 nào vô xem lại "
            ]
          },
          "metadata": {
            "tags": []
          },
          "execution_count": 153
        }
      ]
    },
    {
      "cell_type": "code",
      "metadata": {
        "id": "gtGGIdMe7hpq"
      },
      "source": [
        "dataset = dataset.rename(columns = {\"regular_comments\":\"comments\"})\n"
      ],
      "execution_count": 154,
      "outputs": []
    },
    {
      "cell_type": "code",
      "metadata": {
        "colab": {
          "base_uri": "https://localhost:8080/",
          "height": 647
        },
        "id": "CY4u61Me7D8I",
        "outputId": "1cd40b19-b505-4e05-fbfb-581e254661ec"
      },
      "source": [
        "dataset.head(20)\n"
      ],
      "execution_count": 155,
      "outputs": [
        {
          "output_type": "execute_result",
          "data": {
            "text/html": [
              "<div>\n",
              "<style scoped>\n",
              "    .dataframe tbody tr th:only-of-type {\n",
              "        vertical-align: middle;\n",
              "    }\n",
              "\n",
              "    .dataframe tbody tr th {\n",
              "        vertical-align: top;\n",
              "    }\n",
              "\n",
              "    .dataframe thead th {\n",
              "        text-align: right;\n",
              "    }\n",
              "</style>\n",
              "<table border=\"1\" class=\"dataframe\">\n",
              "  <thead>\n",
              "    <tr style=\"text-align: right;\">\n",
              "      <th></th>\n",
              "      <th>Comment ID</th>\n",
              "      <th>comments</th>\n",
              "    </tr>\n",
              "  </thead>\n",
              "  <tbody>\n",
              "    <tr>\n",
              "      <th>0</th>\n",
              "      <td>UgzZy_jjImTDvWhsqqV4AaABAg</td>\n",
              "      <td>2 ngày liền r</td>\n",
              "    </tr>\n",
              "    <tr>\n",
              "      <th>1</th>\n",
              "      <td>UgxSl2hjvJ6Cev-DHKt4AaABAg</td>\n",
              "      <td>ai 2k cùng sở thích nghe nhạc theo thế loại...</td>\n",
              "    </tr>\n",
              "    <tr>\n",
              "      <th>2</th>\n",
              "      <td>UgwYKyAzbrQ35Pb_aXF4AaABAg</td>\n",
              "      <td>lâu mở lại nghe vẫn chill vcl</td>\n",
              "    </tr>\n",
              "    <tr>\n",
              "      <th>3</th>\n",
              "      <td>UgzAzF-kjWZKHgf0MQZ4AaABAg</td>\n",
              "      <td>0:00            \\r\\n1:43    khổ      \\r\\n5:30 ...</td>\n",
              "    </tr>\n",
              "    <tr>\n",
              "      <th>4</th>\n",
              "      <td>UgzDYfPR7wXvZQ2ft5h4AaABAg</td>\n",
              "      <td>nhớ ngày nay 22/6 nào vô xem lại</td>\n",
              "    </tr>\n",
              "    <tr>\n",
              "      <th>5</th>\n",
              "      <td>UgyApZ-VENA9ZOT3_ph4AaABAg</td>\n",
              "      <td>06:35    có một mối quan hệ mập mờ …</td>\n",
              "    </tr>\n",
              "    <tr>\n",
              "      <th>6</th>\n",
              "      <td>UgywH93Ns3RKAzNAW9V4AaABAg</td>\n",
              "      <td>đang đợi nhanh đến tết để mở mấy bài này :))</td>\n",
              "    </tr>\n",
              "    <tr>\n",
              "      <th>7</th>\n",
              "      <td>UgxZlQMybuvRRetsnuZ4AaABAg</td>\n",
              "      <td>04:16     anh thì chỉ của mình em thôi.</td>\n",
              "    </tr>\n",
              "    <tr>\n",
              "      <th>8</th>\n",
              "      <td>UgxDaexXFTD0aQQ1MKl4AaABAg</td>\n",
              "      <td>thích thể loại này.    trữ tình nhưng phối ...</td>\n",
              "    </tr>\n",
              "    <tr>\n",
              "      <th>9</th>\n",
              "      <td>UgxONwbz0FRZ1Q3pm8N4AaABAg</td>\n",
              "      <td>mấy bài này có độ bánh cuốn ghê cơ ý ^^, thỉnh...</td>\n",
              "    </tr>\n",
              "    <tr>\n",
              "      <th>10</th>\n",
              "      <td>UgwhlqGlBq5YtYQQCy54AaABAg</td>\n",
              "      <td>06:35     tương lai ơi, em chờ anh hơi lâu rồi...</td>\n",
              "    </tr>\n",
              "    <tr>\n",
              "      <th>11</th>\n",
              "      <td>UgxxrY4UfR2RdjKHuFJ4AaABAg</td>\n",
              "      <td>biết nói gì hơn ngoài hai chữ \"     \"</td>\n",
              "    </tr>\n",
              "    <tr>\n",
              "      <th>12</th>\n",
              "      <td>UgyYhdq6uPIxz4Afx354AaABAg</td>\n",
              "      <td>03:13    mạnh mẽ như xương rồng trước bão giông</td>\n",
              "    </tr>\n",
              "    <tr>\n",
              "      <th>13</th>\n",
              "      <td>UgxKdUMWgqmEWu4E8-l4AaABAg</td>\n",
              "      <td>thick bài một lần dang dở cho like nha</td>\n",
              "    </tr>\n",
              "    <tr>\n",
              "      <th>14</th>\n",
              "      <td>UgzTN-KEzXrzEp6R1Jh4AaABAg</td>\n",
              "      <td>rap bài    buồn đó mn ơi?</td>\n",
              "    </tr>\n",
              "    <tr>\n",
              "      <th>15</th>\n",
              "      <td>UgyW1XG8PGIOQUE6pbd4AaABAg</td>\n",
              "      <td>nghiện cái bài nhớ khi xưa lạ nhau này</td>\n",
              "    </tr>\n",
              "    <tr>\n",
              "      <th>16</th>\n",
              "      <td>UgzEzR2w60Na-c9aiZV4AaABAg</td>\n",
              "      <td>02:23     tin nhắn mỗi ngày, cần ai đó quan tâ...</td>\n",
              "    </tr>\n",
              "    <tr>\n",
              "      <th>17</th>\n",
              "      <td>Ugyn60AamPptEaYMO054AaABAg</td>\n",
              "      <td>con hằng ngày luôn hehe</td>\n",
              "    </tr>\n",
              "    <tr>\n",
              "      <th>18</th>\n",
              "      <td>Ugxph6AdMmfDLRAMJaJ4AaABAg</td>\n",
              "      <td>ơi nghe thấy nghiện luôn</td>\n",
              "    </tr>\n",
              "    <tr>\n",
              "      <th>19</th>\n",
              "      <td>Ugxg2Hm3FD5T0wpdbAd4AaABAg</td>\n",
              "      <td>*_19/10/2020_*\\n   còn nghe ko, xin cái tay_\\n...</td>\n",
              "    </tr>\n",
              "  </tbody>\n",
              "</table>\n",
              "</div>"
            ],
            "text/plain": [
              "                    Comment ID                                           comments\n",
              "0   UgzZy_jjImTDvWhsqqV4AaABAg                                      2 ngày liền r\n",
              "1   UgxSl2hjvJ6Cev-DHKt4AaABAg     ai 2k cùng sở thích nghe nhạc theo thế loại...\n",
              "2   UgwYKyAzbrQ35Pb_aXF4AaABAg                     lâu mở lại nghe vẫn chill vcl \n",
              "3   UgzAzF-kjWZKHgf0MQZ4AaABAg  0:00            \\r\\n1:43    khổ      \\r\\n5:30 ...\n",
              "4   UgzDYfPR7wXvZQ2ft5h4AaABAg                  nhớ ngày nay 22/6 nào vô xem lại \n",
              "5   UgyApZ-VENA9ZOT3_ph4AaABAg              06:35    có một mối quan hệ mập mờ … \n",
              "6   UgywH93Ns3RKAzNAW9V4AaABAg       đang đợi nhanh đến tết để mở mấy bài này :))\n",
              "7   UgxZlQMybuvRRetsnuZ4AaABAg           04:16     anh thì chỉ của mình em thôi. \n",
              "8   UgxDaexXFTD0aQQ1MKl4AaABAg     thích thể loại này.    trữ tình nhưng phối ...\n",
              "9   UgxONwbz0FRZ1Q3pm8N4AaABAg  mấy bài này có độ bánh cuốn ghê cơ ý ^^, thỉnh...\n",
              "10  UgwhlqGlBq5YtYQQCy54AaABAg  06:35     tương lai ơi, em chờ anh hơi lâu rồi...\n",
              "11  UgxxrY4UfR2RdjKHuFJ4AaABAg             biết nói gì hơn ngoài hai chữ \"     \" \n",
              "12  UgyYhdq6uPIxz4Afx354AaABAg   03:13    mạnh mẽ như xương rồng trước bão giông \n",
              "13  UgxKdUMWgqmEWu4E8-l4AaABAg             thick bài một lần dang dở cho like nha\n",
              "14  UgzTN-KEzXrzEp6R1Jh4AaABAg                          rap bài    buồn đó mn ơi?\n",
              "15  UgyW1XG8PGIOQUE6pbd4AaABAg           nghiện cái bài nhớ khi xưa lạ nhau này  \n",
              "16  UgzEzR2w60Na-c9aiZV4AaABAg  02:23     tin nhắn mỗi ngày, cần ai đó quan tâ...\n",
              "17  Ugyn60AamPptEaYMO054AaABAg                            con hằng ngày luôn hehe\n",
              "18  Ugxph6AdMmfDLRAMJaJ4AaABAg                           ơi nghe thấy nghiện luôn\n",
              "19  Ugxg2Hm3FD5T0wpdbAd4AaABAg  *_19/10/2020_*\\n   còn nghe ko, xin cái tay_\\n..."
            ]
          },
          "metadata": {
            "tags": []
          },
          "execution_count": 155
        }
      ]
    },
    {
      "cell_type": "code",
      "metadata": {
        "id": "ztzvL7ON-QUZ"
      },
      "source": [
        "dataset.to_csv(\"Dataset2.csv\",index = False)\n"
      ],
      "execution_count": 156,
      "outputs": []
    },
    {
      "cell_type": "code",
      "metadata": {
        "id": "U65QgSir-Qef"
      },
      "source": [
        ""
      ],
      "execution_count": null,
      "outputs": []
    }
  ]
}